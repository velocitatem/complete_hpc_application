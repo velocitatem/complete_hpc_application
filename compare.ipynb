{
 "cells": [
  {
   "cell_type": "markdown",
   "id": "intro",
   "metadata": {},
   "source": [
    "# Comparison of Parallel and Serial Heat Distribution Simulations\n",
    "\n",
    "This notebook compares the results of the parallel and serial implementations of the heat distribution simulation."
   ]
  },
  {
   "cell_type": "code",
   "execution_count": 34,
   "id": "793103f6-d316-42ae-b98c-07315a0f3c84",
   "metadata": {},
   "outputs": [],
   "source": [
    "# Import necessary libraries\n",
    "import os\n",
    "import numpy as np"
   ]
  },
  {
   "cell_type": "code",
   "execution_count": 35,
   "id": "340f14de-5d4d-4f2a-852c-519ba7d4de23",
   "metadata": {},
   "outputs": [],
   "source": [
    "# Define file paths for parallel and serial output files\n",
    "parallel = \"./parallel.out\"\n",
    "serial = \"./serial.out\""
   ]
  },
  {
   "cell_type": "code",
   "execution_count": 36,
   "id": "73e13561-42f7-4355-ad27-eb76a52e232a",
   "metadata": {},
   "outputs": [],
   "source": [
    "# Function to parse the output files into numpy arrays\n",
    "def parse(lines):\n",
    "    result = []\n",
    "    for line in lines:\n",
    "        line = line.strip().split()\n",
    "        result.append([float(a) for a in line])\n",
    "    return np.array(result)\n",
    "        "
   ]
  },
  {
   "cell_type": "code",
   "execution_count": 37,
   "id": "2ee772b8-7858-461c-872c-f17ea8774d16",
   "metadata": {},
   "outputs": [],
   "source": [
    "# Read and parse the parallel and serial output files\n",
    "with open(parallel, \"r\") as f:\n",
    "    parallel = f.readlines()\n",
    "    parallel = parse(parallel)\n",
    "with open(serial, \"r\") as f:\n",
    "    serial = f.readlines()\n",
    "    serial = parse(serial)"
   ]
  },
  {
   "cell_type": "code",
   "execution_count": 38,
   "id": "9b5bc37f-056d-4b88-b3ef-c0f8300f3adb",
   "metadata": {},
   "outputs": [
    {
     "data": {
      "text/plain": [
       "True"
      ]
     },
     "execution_count": 38,
     "metadata": {},
     "output_type": "execute_result"
    }
   ],
   "source": [
    "# Check if the results from parallel and serial implementations are close\n",
    "np.allclose(parallel, serial)"
   ]
  },
  {
   "cell_type": "code",
   "execution_count": null,
   "id": "bcf603c7-6caf-4174-998c-40d0f14a41fb",
   "metadata": {},
   "outputs": [],
   "source": [
    "# Visualize the heat data\n",
    "import matplotlib.pyplot as plt\n",
    "\n",
    "plt.figure(figsize=(12, 6))\n",
    "plt.subplot(1, 2, 1)\n",
    "plt.title('Parallel Heat Distribution')\n",
    "plt.imshow(parallel, cmap='hot', interpolation='nearest')\n",
    "plt.colorbar()\n",
    "\n",
    "plt.subplot(1, 2, 2)\n",
    "plt.title('Serial Heat Distribution')\n",
    "plt.imshow(serial, cmap='hot', interpolation='nearest')\n",
    "plt.colorbar()\n",
    "\n",
    "plt.show()"
   ]
  },
  {
   "cell_type": "markdown",
   "id": "summary",
   "metadata": {},
   "source": [
    "# Summary\n",
    "\n",
    "The results from the parallel and serial implementations of the heat distribution simulation are very close, as indicated by the `np.allclose` function returning `True`. The visualizations also show similar heat distributions."
   ]
  }
 ],
 "metadata": {
  "kernelspec": {
   "display_name": "Python 3 (ipykernel)",
   "language": "python",
   "name": "python3"
  },
  "language_info": {
   "codemirror_mode": {
    "name": "ipython",
    "version": 3
   },
   "file_extension": ".py",
   "mimetype": "text/x-python",
   "name": "python",
   "nbconvert_exporter": "python",
   "pygments_lexer": "ipython3",
   "version": "3.12.7"
  }
 },
 "nbformat": 4,
 "nbformat_minor": 5
}
